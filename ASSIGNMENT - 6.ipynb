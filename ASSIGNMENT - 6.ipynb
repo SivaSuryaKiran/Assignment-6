{
 "cells": [
  {
   "cell_type": "markdown",
   "id": "cbb62d3c",
   "metadata": {},
   "source": [
    "1.a)\n",
    "\n",
    "\n",
    "\\'\tfor Single quote\t\n",
    "\\\\\tfor Backslash\t\n",
    "\\n\tfor New line\t\n",
    "\\r\tfor Carriage return\t\n",
    "\\t\tfor Tab\t\n",
    "\\b\tfor Backspace\n",
    " when we want aline in new line we can use \\n,\n",
    " for tab we can use \\t etc,."
   ]
  },
  {
   "cell_type": "markdown",
   "id": "5534a8b2",
   "metadata": {},
   "source": [
    "2.a)\n",
    "\n",
    "escape sequence t stands for Tab\n",
    "escape sequence n stands for New Line"
   ]
  },
  {
   "cell_type": "markdown",
   "id": "e3e15d1d",
   "metadata": {},
   "source": [
    "3.a)\n",
    " \\\\ is used to include backslash characters in a string"
   ]
  },
  {
   "cell_type": "markdown",
   "id": "fabad6e0",
   "metadata": {},
   "source": [
    "4.a)\n",
    "\n",
    "Because the whole string is enclosed  by double strings (\"\").\n",
    "Single quote is between the howl and s .so it is not a problem."
   ]
  },
  {
   "cell_type": "markdown",
   "id": "9715104c",
   "metadata": {},
   "source": [
    "5.a)\n",
    "\n",
    "we can use different number of print staements for writing without a \\n."
   ]
  },
  {
   "cell_type": "markdown",
   "id": "53bf2936",
   "metadata": {},
   "source": [
    "6.a)\n",
    "\n",
    "\"Hello, world!\"[1] is   'e'\n",
    "\"Hello, world!\"[0:5] is 'Hello'\n",
    "\"Hello, world!\"[:5]  is 'Hello'\n",
    "\"Hello, world!\"[3:]  is  'lo, world!'"
   ]
  },
  {
   "cell_type": "markdown",
   "id": "e08afdfb",
   "metadata": {},
   "source": [
    "7.a)\n",
    "\n",
    "'Hello'.upper()  is 'HELLO'\n",
    "'Hello'.upper().isupper() is True\n",
    "'Hello'.upper().lower()  is 'hello'\n"
   ]
  },
  {
   "cell_type": "markdown",
   "id": "ebd1aada",
   "metadata": {},
   "source": [
    "8.a)\n",
    "\n",
    "'Remember, remember, the fifth of July.'.split()    is ['Remember,', 'remember,', 'the', 'fifth', 'of', 'July.']\n",
    "'-'.join('There can only one.'.split())    is   'There-can-only-one.'"
   ]
  },
  {
   "cell_type": "markdown",
   "id": "29bcae53",
   "metadata": {},
   "source": [
    "9.a)\n",
    "\n",
    "\n",
    "ljust,rjust,center.\n"
   ]
  },
  {
   "cell_type": "markdown",
   "id": "4f5029b3",
   "metadata": {},
   "source": [
    "10.a)\n",
    "  \n",
    "strip()  function is best\n",
    "\n"
   ]
  }
 ],
 "metadata": {
  "kernelspec": {
   "display_name": "Python 3 (ipykernel)",
   "language": "python",
   "name": "python3"
  },
  "language_info": {
   "codemirror_mode": {
    "name": "ipython",
    "version": 3
   },
   "file_extension": ".py",
   "mimetype": "text/x-python",
   "name": "python",
   "nbconvert_exporter": "python",
   "pygments_lexer": "ipython3",
   "version": "3.9.7"
  }
 },
 "nbformat": 4,
 "nbformat_minor": 5
}
